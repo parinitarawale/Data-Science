{
 "cells": [
  {
   "cell_type": "code",
   "execution_count": 1,
   "id": "d62ebd92-4b2e-4903-a617-89a45247eeca",
   "metadata": {},
   "outputs": [
    {
     "name": "stdout",
     "output_type": "stream",
     "text": [
      "Collecting pandas\n",
      "  Downloading pandas-2.3.1-cp313-cp313-macosx_11_0_arm64.whl.metadata (91 kB)\n",
      "Requirement already satisfied: numpy>=1.26.0 in /opt/miniconda3/lib/python3.13/site-packages (from pandas) (2.3.1)\n",
      "Requirement already satisfied: python-dateutil>=2.8.2 in /opt/miniconda3/lib/python3.13/site-packages (from pandas) (2.9.0.post0)\n",
      "Requirement already satisfied: pytz>=2020.1 in /opt/miniconda3/lib/python3.13/site-packages (from pandas) (2024.1)\n",
      "Collecting tzdata>=2022.7 (from pandas)\n",
      "  Downloading tzdata-2025.2-py2.py3-none-any.whl.metadata (1.4 kB)\n",
      "Requirement already satisfied: six>=1.5 in /opt/miniconda3/lib/python3.13/site-packages (from python-dateutil>=2.8.2->pandas) (1.17.0)\n",
      "Downloading pandas-2.3.1-cp313-cp313-macosx_11_0_arm64.whl (10.7 MB)\n",
      "\u001b[2K   \u001b[90m━━━━━━━━━━━━━━━━━━━━━━━━━━━━━━━━━━━━━━━━\u001b[0m \u001b[32m10.7/10.7 MB\u001b[0m \u001b[31m1.5 MB/s\u001b[0m eta \u001b[36m0:00:00\u001b[0ma \u001b[36m0:00:01\u001b[0m\n",
      "\u001b[?25hDownloading tzdata-2025.2-py2.py3-none-any.whl (347 kB)\n",
      "Installing collected packages: tzdata, pandas\n",
      "\u001b[2K   \u001b[90m━━━━━━━━━━━━━━━━━━━━━━━━━━━━━━━━━━━━━━━━\u001b[0m \u001b[32m2/2\u001b[0m [pandas]2m1/2\u001b[0m [pandas]\n",
      "\u001b[1A\u001b[2KSuccessfully installed pandas-2.3.1 tzdata-2025.2\n"
     ]
    }
   ],
   "source": [
    "!pip install pandas"
   ]
  },
  {
   "cell_type": "code",
   "execution_count": 3,
   "id": "3cd7d365-bb5d-4925-b7e8-b217bfb4a775",
   "metadata": {},
   "outputs": [],
   "source": [
    "import pandas as pd\n",
    "import numpy as np"
   ]
  },
  {
   "cell_type": "code",
   "execution_count": 9,
   "id": "91fd38aa-013d-40ba-aeea-b97a8bab5188",
   "metadata": {},
   "outputs": [
    {
     "name": "stdout",
     "output_type": "stream",
     "text": [
      "   Episode              Title  Season    Air_Date  Rating             Monster\n",
      "0        1              Pilot       1  2005-09-13     8.5      Woman in White\n",
      "1        2            Wendigo       1  2005-09-20     8.2             Wendigo\n",
      "2        3  Dead in the Water       1  2005-09-27     8.3   Drowned Boy Ghost\n",
      "3        4   Phantom Traveler       1  2005-10-04     7.8  Demonic Possession\n",
      "4        5        Bloody Mary       1  2005-10-11     8.4         Bloody Mary\n",
      "5        6               Skin       1  2005-10-18     8.1        Shapeshifter\n",
      "6        7           Hook Man       1  2005-10-25     7.9            Hook Man\n",
      "7        8               Bugs       1  2005-11-08     7.5         Cursed Bugs\n",
      "8        9               Home       1  2005-11-15     8.6         Poltergeist\n",
      "9       10             Asylum       1  2005-11-22     8.3              Ghosts\n"
     ]
    }
   ],
   "source": [
    "df = pd.read_csv('SPN.csv')\n",
    "print(df)"
   ]
  },
  {
   "cell_type": "code",
   "execution_count": 10,
   "id": "da227dcc-720b-4857-a336-4f091090704c",
   "metadata": {},
   "outputs": [
    {
     "data": {
      "text/html": [
       "<div>\n",
       "<style scoped>\n",
       "    .dataframe tbody tr th:only-of-type {\n",
       "        vertical-align: middle;\n",
       "    }\n",
       "\n",
       "    .dataframe tbody tr th {\n",
       "        vertical-align: top;\n",
       "    }\n",
       "\n",
       "    .dataframe thead th {\n",
       "        text-align: right;\n",
       "    }\n",
       "</style>\n",
       "<table border=\"1\" class=\"dataframe\">\n",
       "  <thead>\n",
       "    <tr style=\"text-align: right;\">\n",
       "      <th></th>\n",
       "      <th>Episode</th>\n",
       "      <th>Title</th>\n",
       "      <th>Season</th>\n",
       "      <th>Air_Date</th>\n",
       "      <th>Rating</th>\n",
       "      <th>Monster</th>\n",
       "    </tr>\n",
       "  </thead>\n",
       "  <tbody>\n",
       "    <tr>\n",
       "      <th>0</th>\n",
       "      <td>1</td>\n",
       "      <td>Pilot</td>\n",
       "      <td>1</td>\n",
       "      <td>2005-09-13</td>\n",
       "      <td>8.5</td>\n",
       "      <td>Woman in White</td>\n",
       "    </tr>\n",
       "    <tr>\n",
       "      <th>1</th>\n",
       "      <td>2</td>\n",
       "      <td>Wendigo</td>\n",
       "      <td>1</td>\n",
       "      <td>2005-09-20</td>\n",
       "      <td>8.2</td>\n",
       "      <td>Wendigo</td>\n",
       "    </tr>\n",
       "    <tr>\n",
       "      <th>2</th>\n",
       "      <td>3</td>\n",
       "      <td>Dead in the Water</td>\n",
       "      <td>1</td>\n",
       "      <td>2005-09-27</td>\n",
       "      <td>8.3</td>\n",
       "      <td>Drowned Boy Ghost</td>\n",
       "    </tr>\n",
       "    <tr>\n",
       "      <th>3</th>\n",
       "      <td>4</td>\n",
       "      <td>Phantom Traveler</td>\n",
       "      <td>1</td>\n",
       "      <td>2005-10-04</td>\n",
       "      <td>7.8</td>\n",
       "      <td>Demonic Possession</td>\n",
       "    </tr>\n",
       "    <tr>\n",
       "      <th>4</th>\n",
       "      <td>5</td>\n",
       "      <td>Bloody Mary</td>\n",
       "      <td>1</td>\n",
       "      <td>2005-10-11</td>\n",
       "      <td>8.4</td>\n",
       "      <td>Bloody Mary</td>\n",
       "    </tr>\n",
       "  </tbody>\n",
       "</table>\n",
       "</div>"
      ],
      "text/plain": [
       "   Episode              Title  Season    Air_Date  Rating             Monster\n",
       "0        1              Pilot       1  2005-09-13     8.5      Woman in White\n",
       "1        2            Wendigo       1  2005-09-20     8.2             Wendigo\n",
       "2        3  Dead in the Water       1  2005-09-27     8.3   Drowned Boy Ghost\n",
       "3        4   Phantom Traveler       1  2005-10-04     7.8  Demonic Possession\n",
       "4        5        Bloody Mary       1  2005-10-11     8.4         Bloody Mary"
      ]
     },
     "execution_count": 10,
     "metadata": {},
     "output_type": "execute_result"
    }
   ],
   "source": [
    "df.head()"
   ]
  },
  {
   "cell_type": "code",
   "execution_count": 11,
   "id": "11082bd2-268f-4b94-bb4d-13f6f458a536",
   "metadata": {},
   "outputs": [
    {
     "data": {
      "text/html": [
       "<div>\n",
       "<style scoped>\n",
       "    .dataframe tbody tr th:only-of-type {\n",
       "        vertical-align: middle;\n",
       "    }\n",
       "\n",
       "    .dataframe tbody tr th {\n",
       "        vertical-align: top;\n",
       "    }\n",
       "\n",
       "    .dataframe thead th {\n",
       "        text-align: right;\n",
       "    }\n",
       "</style>\n",
       "<table border=\"1\" class=\"dataframe\">\n",
       "  <thead>\n",
       "    <tr style=\"text-align: right;\">\n",
       "      <th></th>\n",
       "      <th>Episode</th>\n",
       "      <th>Title</th>\n",
       "      <th>Season</th>\n",
       "      <th>Air_Date</th>\n",
       "      <th>Rating</th>\n",
       "      <th>Monster</th>\n",
       "    </tr>\n",
       "  </thead>\n",
       "  <tbody>\n",
       "    <tr>\n",
       "      <th>5</th>\n",
       "      <td>6</td>\n",
       "      <td>Skin</td>\n",
       "      <td>1</td>\n",
       "      <td>2005-10-18</td>\n",
       "      <td>8.1</td>\n",
       "      <td>Shapeshifter</td>\n",
       "    </tr>\n",
       "    <tr>\n",
       "      <th>6</th>\n",
       "      <td>7</td>\n",
       "      <td>Hook Man</td>\n",
       "      <td>1</td>\n",
       "      <td>2005-10-25</td>\n",
       "      <td>7.9</td>\n",
       "      <td>Hook Man</td>\n",
       "    </tr>\n",
       "    <tr>\n",
       "      <th>7</th>\n",
       "      <td>8</td>\n",
       "      <td>Bugs</td>\n",
       "      <td>1</td>\n",
       "      <td>2005-11-08</td>\n",
       "      <td>7.5</td>\n",
       "      <td>Cursed Bugs</td>\n",
       "    </tr>\n",
       "    <tr>\n",
       "      <th>8</th>\n",
       "      <td>9</td>\n",
       "      <td>Home</td>\n",
       "      <td>1</td>\n",
       "      <td>2005-11-15</td>\n",
       "      <td>8.6</td>\n",
       "      <td>Poltergeist</td>\n",
       "    </tr>\n",
       "    <tr>\n",
       "      <th>9</th>\n",
       "      <td>10</td>\n",
       "      <td>Asylum</td>\n",
       "      <td>1</td>\n",
       "      <td>2005-11-22</td>\n",
       "      <td>8.3</td>\n",
       "      <td>Ghosts</td>\n",
       "    </tr>\n",
       "  </tbody>\n",
       "</table>\n",
       "</div>"
      ],
      "text/plain": [
       "   Episode     Title  Season    Air_Date  Rating       Monster\n",
       "5        6      Skin       1  2005-10-18     8.1  Shapeshifter\n",
       "6        7  Hook Man       1  2005-10-25     7.9      Hook Man\n",
       "7        8      Bugs       1  2005-11-08     7.5   Cursed Bugs\n",
       "8        9      Home       1  2005-11-15     8.6   Poltergeist\n",
       "9       10    Asylum       1  2005-11-22     8.3        Ghosts"
      ]
     },
     "execution_count": 11,
     "metadata": {},
     "output_type": "execute_result"
    }
   ],
   "source": [
    "df.tail()"
   ]
  },
  {
   "cell_type": "code",
   "execution_count": 12,
   "id": "ede749e2-ba5b-4380-b99a-97cd631cfc96",
   "metadata": {},
   "outputs": [
    {
     "name": "stdout",
     "output_type": "stream",
     "text": [
      "<class 'pandas.core.frame.DataFrame'>\n",
      "RangeIndex: 10 entries, 0 to 9\n",
      "Data columns (total 6 columns):\n",
      " #   Column    Non-Null Count  Dtype  \n",
      "---  ------    --------------  -----  \n",
      " 0   Episode   10 non-null     int64  \n",
      " 1   Title     10 non-null     object \n",
      " 2   Season    10 non-null     int64  \n",
      " 3   Air_Date  10 non-null     object \n",
      " 4   Rating    10 non-null     float64\n",
      " 5   Monster   10 non-null     object \n",
      "dtypes: float64(1), int64(2), object(3)\n",
      "memory usage: 612.0+ bytes\n"
     ]
    }
   ],
   "source": [
    "df.info()"
   ]
  },
  {
   "cell_type": "code",
   "execution_count": 13,
   "id": "da9bf825-3499-4645-a649-3c5a22c1ac32",
   "metadata": {},
   "outputs": [
    {
     "name": "stdout",
     "output_type": "stream",
     "text": [
      "<bound method Series.mean of 0    8.5\n",
      "1    8.2\n",
      "2    8.3\n",
      "3    7.8\n",
      "4    8.4\n",
      "5    8.1\n",
      "6    7.9\n",
      "7    7.5\n",
      "8    8.6\n",
      "9    8.3\n",
      "Name: Rating, dtype: float64>\n"
     ]
    }
   ],
   "source": [
    "print(df[\"Rating\"].mean)"
   ]
  },
  {
   "cell_type": "code",
   "execution_count": null,
   "id": "ada61c73-3348-4811-b00c-35a3ba176f4a",
   "metadata": {},
   "outputs": [],
   "source": []
  }
 ],
 "metadata": {
  "kernelspec": {
   "display_name": "Python 3 (ipykernel)",
   "language": "python",
   "name": "python3"
  },
  "language_info": {
   "codemirror_mode": {
    "name": "ipython",
    "version": 3
   },
   "file_extension": ".py",
   "mimetype": "text/x-python",
   "name": "python",
   "nbconvert_exporter": "python",
   "pygments_lexer": "ipython3",
   "version": "3.13.5"
  }
 },
 "nbformat": 4,
 "nbformat_minor": 5
}
